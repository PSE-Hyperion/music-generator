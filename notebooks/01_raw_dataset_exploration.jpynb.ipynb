{
 "cells": [
  {
   "metadata": {
    "collapsed": true,
    "jupyter": {
     "outputs_hidden": true
    }
   },
   "cell_type": "code",
   "source": [
    "import numpy as np\n",
    "import music21 as m21\n",
    "import matplotlib.pyplot as plt\n",
    "import pathlib\n",
    "import ipywidgets as widgets\n",
    "from groove_panda.midi import parser\n",
    "\n",
    "paths = pathlib.Path('/home/jan/music-generator/data/midi/datasets/Test_Dataset').rglob('*.mid')\n",
    "\n",
    "MIDI_PITCH_SIZE = 128\n",
    "under_range, over_range = 0, 0\n",
    "lowest, highest = 127, 0\n",
    "pitch_counter = np.zeros(MIDI_PITCH_SIZE)\n",
    "note_counter = 0\n",
    "\n",
    "for path in paths:\n",
    "    score = m21.converter.parseFile(fp=path)\n",
    "    notes_list = filter(lambda event: isinstance(event, m21.note.Note), score.recurse().notes)\n",
    "\n",
    "\n",
    "    for note in notes_list:\n",
    "        midi_pitch = note.pitch.midi\n",
    "        pitch_counter[midi_pitch] += 1\n",
    "        if midi_pitch < 24: under_range += 1\n",
    "        if midi_pitch > 105: over_range += 1\n",
    "        if midi_pitch < lowest: lowest = midi_pitch\n",
    "        if midi_pitch > highest: highest = midi_pitch\n",
    "        note_counter += 1\n",
    "\n",
    "# Alle MIDI-Pitches (0–127) initialisieren\n",
    "all_midi = list(range(0, MIDI_PITCH_SIZE))\n",
    "all_labels = [m21.pitch.Pitch(m).nameWithOctave for m in all_midi]\n",
    "\n",
    "# Plot\n",
    "plt.figure(figsize=(20, 5))\n",
    "plt.bar(all_labels[21:105], pitch_counter[21:105], width=1.0, color='skyblue')\n",
    "\n",
    "plt.xticks(rotation=90, fontsize=8)\n",
    "plt.xlabel('Pitch (MIDI 0–127)')\n",
    "plt.ylabel('Count')\n",
    "plt.title('Pitch Histogram (inkl. count = 0)')\n",
    "plt.tight_layout()\n",
    "plt.grid(axis='y', linestyle='--', alpha=0.5)\n",
    "plt.show()\n",
    "\n",
    "print(f\"Under range: {under_range}, over_range: {over_range}\")\n",
    "print(f\"Lowest: {lowest}, Highest: {highest}\")\n",
    "\n"
   ],
   "id": "initial_id",
   "outputs": [],
   "execution_count": null
  },
  {
   "metadata": {
    "ExecuteTime": {
     "end_time": "2025-07-18T18:12:31.347658Z",
     "start_time": "2025-07-18T18:12:31.346024Z"
    }
   },
   "cell_type": "code",
   "source": "",
   "id": "168e9e29af73abeb",
   "outputs": [],
   "execution_count": null
  }
 ],
 "metadata": {
  "kernelspec": {
   "display_name": "Python 3 (ipykernel)",
   "language": "python",
   "name": "python3"
  },
  "language_info": {
   "codemirror_mode": {
    "name": "ipython",
    "version": 3
   },
   "file_extension": ".py",
   "mimetype": "text/x-python",
   "name": "python",
   "nbconvert_exporter": "python",
   "pygments_lexer": "ipython3",
   "version": "3.11.13"
  }
 },
 "nbformat": 4,
 "nbformat_minor": 5
}
